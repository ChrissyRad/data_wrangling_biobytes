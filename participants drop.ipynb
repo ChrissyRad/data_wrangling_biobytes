{
 "cells": [
  {
   "cell_type": "code",
   "execution_count": 2,
   "id": "e91fcafb",
   "metadata": {},
   "outputs": [],
   "source": [
    "import pandas as pd\n",
    "import numpy as np"
   ]
  },
  {
   "cell_type": "code",
   "execution_count": 4,
   "id": "3aa7f300",
   "metadata": {},
   "outputs": [],
   "source": [
    "baseline = pd.read_csv('homepap-baseline-dataset-0.1.0.csv')\n",
    "onemonth = pd.read_csv('homepap-month1-dataset-0.1.0.csv')\n",
    "threemonth = pd.read_csv('homepap-month3-dataset-0.1.0.csv')"
   ]
  },
  {
   "cell_type": "code",
   "execution_count": 9,
   "id": "45024cca",
   "metadata": {},
   "outputs": [],
   "source": [
    "var_baseline = baseline[['age', 'agg_ment', 'agg_phys', 'bp_norm', 'cal_total', 'clusterid', 'diastolic', 'esstotal', 'ethnicity', 'fosq_actlev', 'fosq_genprd', 'fosq_global', 'fosq_sexual', 'fosq_socout', 'fosq_vigiln', 'gender', 'gh_norm', 'mh_norm', 'nsrrid', 'pf_norm', 'race3', 're_norm', 'rp_norm', 'sf36_mcs', 'sf36_pcs', 'sf_norm', 'systolic', 'treatmentarm', 'visit', 'vt_norm']]\n",
    "var_onemonth = onemonth[['age', 'agg_ment', 'agg_phys', 'bp_norm', 'cal_total', 'clusterid', 'diastolic', 'esstotal', 'ethnicity', 'fosq_actlev', 'fosq_genprd', 'fosq_global', 'fosq_sexual', 'fosq_socout', 'fosq_vigiln', 'gender', 'gh_norm', 'mh_norm', 'nsrrid', 'pf_norm', 'race3', 're_norm', 'rp_norm', 'sf36_mcs', 'sf36_pcs', 'sf_norm', 'systolic', 'treatmentarm', 'visit', 'vt_norm']]\n",
    "var_threemonth = threemonth[['age', 'agg_ment', 'agg_phys', 'bp_norm', 'cal_total', 'clusterid', 'diastolic', 'esstotal', 'ethnicity', 'fosq_actlev', 'fosq_genprd', 'fosq_global', 'fosq_sexual', 'fosq_socout', 'fosq_vigiln', 'gender', 'gh_norm', 'mh_norm', 'nsrrid', 'pf_norm', 'race3', 're_norm', 'rp_norm', 'sf36_mcs', 'sf36_pcs', 'sf_norm', 'systolic', 'treatmentarm', 'visit', 'vt_norm']]"
   ]
  },
  {
   "cell_type": "code",
   "execution_count": 15,
   "id": "7febdd97",
   "metadata": {},
   "outputs": [
    {
     "name": "stdout",
     "output_type": "stream",
     "text": [
      "(373, 30)\n",
      "(373, 30)\n",
      "(373, 30)\n"
     ]
    }
   ],
   "source": [
    "print(var_baseline.shape)\n",
    "print(var_onemonth.shape)\n",
    "print(var_threemonth.shape)"
   ]
  },
  {
   "cell_type": "code",
   "execution_count": 18,
   "id": "3389bd49",
   "metadata": {},
   "outputs": [
    {
     "name": "stdout",
     "output_type": "stream",
     "text": [
      "(271, 30)\n",
      "(124, 30)\n",
      "(112, 30)\n"
     ]
    }
   ],
   "source": [
    "print(var_baseline.dropna().shape)\n",
    "print(var_onemonth.dropna().shape)\n",
    "print(var_threemonth.dropna().shape)"
   ]
  },
  {
   "cell_type": "code",
   "execution_count": 23,
   "id": "12add71a",
   "metadata": {},
   "outputs": [
    {
     "name": "stdout",
     "output_type": "stream",
     "text": [
      "total number of participants dropping from the study: 261\n"
     ]
    }
   ],
   "source": [
    "participants = var_baseline.shape[0] - var_threemonth.dropna().shape[0]\n",
    "print('total number of participants dropping from the study:', participants)"
   ]
  },
  {
   "cell_type": "code",
   "execution_count": null,
   "id": "79e86951",
   "metadata": {},
   "outputs": [],
   "source": []
  }
 ],
 "metadata": {
  "kernelspec": {
   "display_name": "Python 3 (ipykernel)",
   "language": "python",
   "name": "python3"
  },
  "language_info": {
   "codemirror_mode": {
    "name": "ipython",
    "version": 3
   },
   "file_extension": ".py",
   "mimetype": "text/x-python",
   "name": "python",
   "nbconvert_exporter": "python",
   "pygments_lexer": "ipython3",
   "version": "3.9.13"
  }
 },
 "nbformat": 4,
 "nbformat_minor": 5
}
