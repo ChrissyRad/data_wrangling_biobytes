{
 "cells": [
  {
   "cell_type": "markdown",
   "id": "7b1159a3",
   "metadata": {},
   "source": [
    "**Data Profiling**\n",
    "\n",
    "Data profiling is the process of analyzing and understanding the characteristics and structure of a dataset. It involves examining the data to identify patterns, anomalies, and inconsistencies, as well as determining the quality and completeness of the data.\n",
    "\n",
    "Data profiling typically involves looking at the basic statistics of the dataset, such as the number of observations, the number of missing values, the distribution of values, and the presence of outliers. \n"
   ]
  },
  {
   "cell_type": "markdown",
   "id": "f8e7c50f",
   "metadata": {},
   "source": [
    "In the code below, I have analysed the basic stats of the baseline dataset mainly column age and gender. I have also calculated the number of unique and null values in each column. And to understand the distribution better, I have used histogram. Skewness of the data is also printed."
   ]
  },
  {
   "cell_type": "code",
   "execution_count": null,
   "id": "f70ffa1f",
   "metadata": {},
   "outputs": [],
   "source": [
    "import pandas as pd\n",
    "\n",
    "# Read CSV file into a Pandas DataFrame/\n",
    "df = pd.read_csv(\"homepap-baseline-dataset-0.1.0.csv\", usecols=[4, 5])\n",
    "\n",
    "\n",
    "# Get basic statistics for each column\n",
    "stats = df.describe()\n",
    "\n",
    "# Get count of null values for each column\n",
    "null_count = df.isnull().sum()\n",
    "\n",
    "# Get count of unique values for each column\n",
    "unique_count = df.nunique()\n",
    "\n",
    "print(\"Basic Statistics:\")\n",
    "print(stats)\n",
    "print(\"\\nCount of Null Values:\")\n",
    "print(null_count)\n",
    "print(\"\\nCount of Unique Values:\")\n",
    "print(unique_count)\n"
   ]
  },
  {
   "cell_type": "code",
   "execution_count": 9,
   "id": "23a0799a",
   "metadata": {},
   "outputs": [
    {
     "data": {
      "image/png": "[encoded data removed]",
      "text/plain": [
       "<Figure size 432x288 with 1 Axes>"
      ]
     },
     "metadata": {
      "needs_background": "light"
     },
     "output_type": "display_data"
    },
    {
     "data": {
      "image/png": "[encoded data removed]",
      "text/plain": [
       "<Figure size 432x288 with 1 Axes>"
      ]
     },
     "metadata": {
      "needs_background": "light"
     },
     "output_type": "display_data"
    },
    {
     "name": "stdout",
     "output_type": "stream",
     "text": [
      "\n",
      "Skewness:\n",
      "age       0.194559\n",
      "gender   -0.423663\n",
      "dtype: float64\n"
     ]
    }
   ],
   "source": [
    "import matplotlib.pyplot as plt\n",
    "\n",
    "plt.hist(df['age'])\n",
    "\n",
    "# add labels and title\n",
    "plt.xlabel('Age')\n",
    "plt.ylabel('Frequency')\n",
    "plt.title('Histogram of Age')\n",
    "\n",
    "# display the plot\n",
    "plt.show()\n",
    "\n",
    "plt.hist(df['gender'])\n",
    "\n",
    "# add labels and title\n",
    "plt.xlabel('Gender')\n",
    "plt.ylabel('Frequency')\n",
    "plt.title('Histogram  of Gender')\n",
    "\n",
    "# display the plot\n",
    "plt.show()\n",
    "\n",
    "skewness = df.skew()\n",
    "print(\"\\nSkewness:\")\n",
    "print(skewness)"
   ]
  },
  {
   "cell_type": "markdown",
   "id": "2cbf20c7",
   "metadata": {},
   "source": [
    "In the code below, I have analysed the basic stats of the month 1 dataset mainly columns Diastolic BP and Systolic BP. I have also calculated the number of unique and null values in each column. And to understand the distribution better, I have used histogram. Skewness of the data is also printed."
   ]
  },
  {
   "cell_type": "code",
   "execution_count": 11,
   "id": "2c3e7f72",
   "metadata": {},
   "outputs": [
    {
     "name": "stdout",
     "output_type": "stream",
     "text": [
      "Basic Statistics:\n",
      "         systolic   diastolic\n",
      "count  152.000000  152.000000\n",
      "mean   128.424342   78.815789\n",
      "std     17.302314   10.247546\n",
      "min    100.000000   53.000000\n",
      "25%    116.750000   71.750000\n",
      "50%    126.000000   80.000000\n",
      "75%    139.000000   85.000000\n",
      "max    226.000000  111.000000\n",
      "\n",
      "Count of Null Values:\n",
      "systolic     221\n",
      "diastolic    221\n",
      "dtype: int64\n",
      "\n",
      "Count of Unique Values:\n",
      "systolic     57\n",
      "diastolic    44\n",
      "dtype: int64\n"
     ]
    }
   ],
   "source": [
    "import pandas as pd\n",
    "\n",
    "# Read CSV file into a Pandas DataFrame/\n",
    "df = pd.read_csv(\"homepap-month1-dataset-0.1.0.csv\", usecols=[8, 9])\n",
    "\n",
    "\n",
    "# Get basic statistics for each column\n",
    "stats = df.describe()\n",
    "\n",
    "# Get count of null values for each column\n",
    "null_count = df.isnull().sum()\n",
    "\n",
    "# Get count of unique values for each column\n",
    "unique_count = df.nunique()\n",
    "\n",
    "print(\"Basic Statistics:\")\n",
    "print(stats)\n",
    "print(\"\\nCount of Null Values:\")\n",
    "print(null_count)\n",
    "print(\"\\nCount of Unique Values:\")\n",
    "print(unique_count)"
   ]
  },
  {
   "cell_type": "code",
   "execution_count": 13,
   "id": "90a66d85",
   "metadata": {},
   "outputs": [
    {
     "data": {
      "image/png": "[encoded data removed]",
      "text/plain": [
       "<Figure size 432x288 with 1 Axes>"
      ]
     },
     "metadata": {
      "needs_background": "light"
     },
     "output_type": "display_data"
    },
    {
     "data": {
      "image/png": "[encoded data removed]",
      "text/plain": [
       "<Figure size 432x288 with 1 Axes>"
      ]
     },
     "metadata": {
      "needs_background": "light"
     },
     "output_type": "display_data"
    },
    {
     "name": "stdout",
     "output_type": "stream",
     "text": [
      "\n",
      "Skewness:\n",
      "systolic     1.587997\n",
      "diastolic    0.002319\n",
      "dtype: float64\n"
     ]
    }
   ],
   "source": [
    "import matplotlib.pyplot as plt\n",
    "\n",
    "plt.hist(df['systolic'])\n",
    "\n",
    "# add labels and title\n",
    "plt.xlabel('Systolic BP')\n",
    "plt.ylabel('Frequency')\n",
    "plt.title('Histogram of systolic BP')\n",
    "\n",
    "# display the plot\n",
    "plt.show()\n",
    "\n",
    "plt.hist(df['diastolic'])\n",
    "\n",
    "# add labels and title\n",
    "plt.xlabel('Diastolic BP')\n",
    "plt.ylabel('Frequency')\n",
    "plt.title('Histogram  of Diastolic BP')\n",
    "\n",
    "# display the plot\n",
    "plt.show()\n",
    "\n",
    "skewness = df.skew()\n",
    "print(\"\\nSkewness:\")\n",
    "print(skewness)"
   ]
  },
  {
   "cell_type": "markdown",
   "id": "2b6236a8",
   "metadata": {},
   "source": [
    "Data Cleansing\n",
    "\n",
    "Data cleansing, also known as data cleaning or data scrubbing, is the process of identifying and correcting or removing errors, inconsistencies, and inaccuracies in a dataset. The goal of data cleansing is to improve the quality of the data, making it more accurate, complete, and consistent.\n"
   ]
  },
  {
   "cell_type": "code",
   "execution_count": null,
   "id": "e41b2538",
   "metadata": {},
   "outputs": [],
   "source": []
  }
 ],
 "metadata": {
  "kernelspec": {
   "display_name": "Python 3 (ipykernel)",
   "language": "python",
   "name": "python3"
  },
  "language_info": {
   "codemirror_mode": {
    "name": "ipython",
    "version": 3
   },
   "file_extension": ".py",
   "mimetype": "text/x-python",
   "name": "python",
   "nbconvert_exporter": "python",
   "pygments_lexer": "ipython3",
   "version": "3.9.7"
  }
 },
 "nbformat": 4,
 "nbformat_minor": 5
}
