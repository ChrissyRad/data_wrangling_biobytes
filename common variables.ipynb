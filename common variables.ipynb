{
 "cells": [
  {
   "cell_type": "code",
   "execution_count": 1,
   "id": "ed1be83f",
   "metadata": {},
   "outputs": [],
   "source": [
    "import pandas as pd"
   ]
  },
  {
   "cell_type": "code",
   "execution_count": 2,
   "id": "b8348382",
   "metadata": {},
   "outputs": [],
   "source": [
    "baseline = pd.read_csv('homepap-baseline-dataset-0.1.0.csv')\n",
    "baseline_var = baseline.columns"
   ]
  },
  {
   "cell_type": "code",
   "execution_count": 3,
   "id": "ccaa194e",
   "metadata": {},
   "outputs": [],
   "source": [
    "onemonth = pd.read_csv('homepap-month1-dataset-0.1.0.csv')\n",
    "onemonth_var = onemonth.columns"
   ]
  },
  {
   "cell_type": "code",
   "execution_count": 4,
   "id": "cf8966f7",
   "metadata": {},
   "outputs": [],
   "source": [
    "threemonth = pd.read_csv('homepap-month3-dataset-0.1.0.csv')\n",
    "threemonth_var = threemonth.columns"
   ]
  },
  {
   "cell_type": "code",
   "execution_count": 5,
   "id": "1b21456e",
   "metadata": {},
   "outputs": [
    {
     "name": "stdout",
     "output_type": "stream",
     "text": [
      "['age', 'agg_ment', 'agg_phys', 'bp_norm', 'cal_total', 'clusterid', 'diastolic', 'esstotal', 'ethnicity', 'fosq_actlev', 'fosq_genprd', 'fosq_global', 'fosq_sexual', 'fosq_socout', 'fosq_vigiln', 'gender', 'gh_norm', 'mh_norm', 'nsrrid', 'pf_norm', 'race3', 're_norm', 'rp_norm', 'sf36_mcs', 'sf36_pcs', 'sf_norm', 'systolic', 'treatmentarm', 'visit', 'vt_norm']\n"
     ]
    }
   ],
   "source": [
    "samevar = []\n",
    "for i, x in enumerate(baseline_var):\n",
    "    if x in onemonth_var:\n",
    "        samevar.append(x)\n",
    "    else:\n",
    "        i += 1\n",
    "\n",
    "allsame = []\n",
    "\n",
    "for i, x in enumerate(samevar):\n",
    "    if x in threemonth_var:\n",
    "        allsame.append(x)\n",
    "    else:\n",
    "        i += 1\n",
    "allsame.sort()\n",
    "print(allsame)"
   ]
  },
  {
   "cell_type": "code",
   "execution_count": null,
   "id": "57f360f4",
   "metadata": {},
   "outputs": [],
   "source": []
  }
 ],
 "metadata": {
  "kernelspec": {
   "display_name": "Python 3 (ipykernel)",
   "language": "python",
   "name": "python3"
  },
  "language_info": {
   "codemirror_mode": {
    "name": "ipython",
    "version": 3
   },
   "file_extension": ".py",
   "mimetype": "text/x-python",
   "name": "python",
   "nbconvert_exporter": "python",
   "pygments_lexer": "ipython3",
   "version": "3.9.13"
  }
 },
 "nbformat": 4,
 "nbformat_minor": 5
}
